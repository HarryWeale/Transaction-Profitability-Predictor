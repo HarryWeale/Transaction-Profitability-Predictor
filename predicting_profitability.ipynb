{
 "cells": [
  {
   "cell_type": "markdown",
   "metadata": {},
   "source": [
    "<br>\n",
    "\n",
    "####  Predicting profititability of a transaction\n",
    "\n",
    "+ A project related to this kaggle dataset: https://www.kaggle.com/datasets/itssuru/super-store\n"
   ]
  },
  {
   "cell_type": "code",
   "execution_count": 1,
   "metadata": {},
   "outputs": [],
   "source": [
    "# libraries!\n",
    "import numpy as np\n",
    "import pandas as pd"
   ]
  },
  {
   "cell_type": "code",
   "execution_count": 2,
   "metadata": {},
   "outputs": [
    {
     "name": "stdout",
     "output_type": "stream",
     "text": [
      "superstore_clean.csv : file read into a pandas dataframe.\n"
     ]
    }
   ],
   "source": [
    "\n",
    "filename = 'superstore_clean.csv'\n",
    "df_tidy = pd.read_csv(filename)      # encoding = \"utf-8\", \"latin1\"\n",
    "print(f\"{filename} : file read into a pandas dataframe.\")"
   ]
  },
  {
   "cell_type": "code",
   "execution_count": 3,
   "metadata": {},
   "outputs": [
    {
     "name": "stdout",
     "output_type": "stream",
     "text": [
      "df_tidy.shape is (9994, 12)\n",
      "\n",
      "<class 'pandas.core.frame.DataFrame'>\n",
      "Int64Index: 9994 entries, 0 to 9993\n",
      "Data columns (total 12 columns):\n",
      " #   Column        Non-Null Count  Dtype  \n",
      "---  ------        --------------  -----  \n",
      " 0   Ship Mode     9994 non-null   int64  \n",
      " 1   Segment       9994 non-null   int64  \n",
      " 2   State         9994 non-null   int64  \n",
      " 3   Postal Code   9994 non-null   int64  \n",
      " 4   Region        9994 non-null   int64  \n",
      " 5   Category      9994 non-null   int64  \n",
      " 6   Sub-Category  9994 non-null   int64  \n",
      " 7   Sales         9994 non-null   float64\n",
      " 8   Quantity      9994 non-null   int64  \n",
      " 9   Discount      9994 non-null   float64\n",
      " 10  Profit        9994 non-null   float64\n",
      " 11  Profitable    9994 non-null   int64  \n",
      "dtypes: float64(3), int64(9)\n",
      "memory usage: 1015.0 KB\n"
     ]
    }
   ],
   "source": [
    "\n",
    "print(f\"df_tidy.shape is {df_tidy.shape}\\n\")\n",
    "df_tidy.info()  # prints column information\n"
   ]
  },
  {
   "cell_type": "code",
   "execution_count": 4,
   "metadata": {},
   "outputs": [
    {
     "name": "stdout",
     "output_type": "stream",
     "text": [
      "No Profit maps to 0\n",
      "Profit maps to 1\n"
     ]
    }
   ],
   "source": [
    "PROFITS = ['No Profit', 'Profit']   # int to str\n",
    "PROFITS_INDICES= {'No Profit':0,'Profit':1}  # str to int\n",
    "\n",
    "# Let's try it out...\n",
    "for name in PROFITS:\n",
    "    print(f\"{name} maps to {PROFITS_INDICES[name]}\")"
   ]
  },
  {
   "cell_type": "code",
   "execution_count": 5,
   "metadata": {},
   "outputs": [
    {
     "data": {
      "text/html": [
       "<div>\n",
       "<style scoped>\n",
       "    .dataframe tbody tr th:only-of-type {\n",
       "        vertical-align: middle;\n",
       "    }\n",
       "\n",
       "    .dataframe tbody tr th {\n",
       "        vertical-align: top;\n",
       "    }\n",
       "\n",
       "    .dataframe thead th {\n",
       "        text-align: right;\n",
       "    }\n",
       "</style>\n",
       "<table border=\"1\" class=\"dataframe\">\n",
       "  <thead>\n",
       "    <tr style=\"text-align: right;\">\n",
       "      <th></th>\n",
       "      <th>Ship Mode</th>\n",
       "      <th>Segment</th>\n",
       "      <th>State</th>\n",
       "      <th>Postal Code</th>\n",
       "      <th>Region</th>\n",
       "      <th>Category</th>\n",
       "      <th>Sub-Category</th>\n",
       "      <th>Sales</th>\n",
       "      <th>Quantity</th>\n",
       "      <th>Discount</th>\n",
       "      <th>Profitable</th>\n",
       "    </tr>\n",
       "  </thead>\n",
       "  <tbody>\n",
       "    <tr>\n",
       "      <th>0</th>\n",
       "      <td>3</td>\n",
       "      <td>1</td>\n",
       "      <td>24</td>\n",
       "      <td>42420</td>\n",
       "      <td>0</td>\n",
       "      <td>2</td>\n",
       "      <td>5</td>\n",
       "      <td>261.9600</td>\n",
       "      <td>2</td>\n",
       "      <td>0.00</td>\n",
       "      <td>1</td>\n",
       "    </tr>\n",
       "    <tr>\n",
       "      <th>1</th>\n",
       "      <td>3</td>\n",
       "      <td>1</td>\n",
       "      <td>24</td>\n",
       "      <td>42420</td>\n",
       "      <td>0</td>\n",
       "      <td>2</td>\n",
       "      <td>0</td>\n",
       "      <td>731.9400</td>\n",
       "      <td>3</td>\n",
       "      <td>0.00</td>\n",
       "      <td>1</td>\n",
       "    </tr>\n",
       "    <tr>\n",
       "      <th>2</th>\n",
       "      <td>3</td>\n",
       "      <td>0</td>\n",
       "      <td>5</td>\n",
       "      <td>90036</td>\n",
       "      <td>3</td>\n",
       "      <td>1</td>\n",
       "      <td>1</td>\n",
       "      <td>14.6200</td>\n",
       "      <td>2</td>\n",
       "      <td>0.00</td>\n",
       "      <td>1</td>\n",
       "    </tr>\n",
       "    <tr>\n",
       "      <th>3</th>\n",
       "      <td>1</td>\n",
       "      <td>1</td>\n",
       "      <td>2</td>\n",
       "      <td>33311</td>\n",
       "      <td>0</td>\n",
       "      <td>2</td>\n",
       "      <td>15</td>\n",
       "      <td>957.5775</td>\n",
       "      <td>5</td>\n",
       "      <td>0.45</td>\n",
       "      <td>0</td>\n",
       "    </tr>\n",
       "    <tr>\n",
       "      <th>4</th>\n",
       "      <td>1</td>\n",
       "      <td>1</td>\n",
       "      <td>2</td>\n",
       "      <td>33311</td>\n",
       "      <td>0</td>\n",
       "      <td>1</td>\n",
       "      <td>14</td>\n",
       "      <td>22.3680</td>\n",
       "      <td>2</td>\n",
       "      <td>0.20</td>\n",
       "      <td>1</td>\n",
       "    </tr>\n",
       "    <tr>\n",
       "      <th>...</th>\n",
       "      <td>...</td>\n",
       "      <td>...</td>\n",
       "      <td>...</td>\n",
       "      <td>...</td>\n",
       "      <td>...</td>\n",
       "      <td>...</td>\n",
       "      <td>...</td>\n",
       "      <td>...</td>\n",
       "      <td>...</td>\n",
       "      <td>...</td>\n",
       "      <td>...</td>\n",
       "    </tr>\n",
       "    <tr>\n",
       "      <th>9989</th>\n",
       "      <td>3</td>\n",
       "      <td>1</td>\n",
       "      <td>2</td>\n",
       "      <td>33180</td>\n",
       "      <td>0</td>\n",
       "      <td>2</td>\n",
       "      <td>8</td>\n",
       "      <td>25.2480</td>\n",
       "      <td>3</td>\n",
       "      <td>0.20</td>\n",
       "      <td>1</td>\n",
       "    </tr>\n",
       "    <tr>\n",
       "      <th>9990</th>\n",
       "      <td>1</td>\n",
       "      <td>1</td>\n",
       "      <td>5</td>\n",
       "      <td>92627</td>\n",
       "      <td>3</td>\n",
       "      <td>2</td>\n",
       "      <td>8</td>\n",
       "      <td>91.9600</td>\n",
       "      <td>2</td>\n",
       "      <td>0.00</td>\n",
       "      <td>1</td>\n",
       "    </tr>\n",
       "    <tr>\n",
       "      <th>9991</th>\n",
       "      <td>1</td>\n",
       "      <td>1</td>\n",
       "      <td>5</td>\n",
       "      <td>92627</td>\n",
       "      <td>3</td>\n",
       "      <td>0</td>\n",
       "      <td>16</td>\n",
       "      <td>258.5760</td>\n",
       "      <td>2</td>\n",
       "      <td>0.20</td>\n",
       "      <td>1</td>\n",
       "    </tr>\n",
       "    <tr>\n",
       "      <th>9992</th>\n",
       "      <td>1</td>\n",
       "      <td>1</td>\n",
       "      <td>5</td>\n",
       "      <td>92627</td>\n",
       "      <td>3</td>\n",
       "      <td>1</td>\n",
       "      <td>10</td>\n",
       "      <td>29.6000</td>\n",
       "      <td>4</td>\n",
       "      <td>0.00</td>\n",
       "      <td>1</td>\n",
       "    </tr>\n",
       "    <tr>\n",
       "      <th>9993</th>\n",
       "      <td>3</td>\n",
       "      <td>1</td>\n",
       "      <td>5</td>\n",
       "      <td>92683</td>\n",
       "      <td>3</td>\n",
       "      <td>1</td>\n",
       "      <td>13</td>\n",
       "      <td>243.1600</td>\n",
       "      <td>2</td>\n",
       "      <td>0.00</td>\n",
       "      <td>1</td>\n",
       "    </tr>\n",
       "  </tbody>\n",
       "</table>\n",
       "<p>9994 rows × 11 columns</p>\n",
       "</div>"
      ],
      "text/plain": [
       "      Ship Mode  Segment  State  Postal Code  Region  Category  Sub-Category  \\\n",
       "0             3        1     24        42420       0         2             5   \n",
       "1             3        1     24        42420       0         2             0   \n",
       "2             3        0      5        90036       3         1             1   \n",
       "3             1        1      2        33311       0         2            15   \n",
       "4             1        1      2        33311       0         1            14   \n",
       "...         ...      ...    ...          ...     ...       ...           ...   \n",
       "9989          3        1      2        33180       0         2             8   \n",
       "9990          1        1      5        92627       3         2             8   \n",
       "9991          1        1      5        92627       3         0            16   \n",
       "9992          1        1      5        92627       3         1            10   \n",
       "9993          3        1      5        92683       3         1            13   \n",
       "\n",
       "         Sales  Quantity  Discount  Profitable  \n",
       "0     261.9600         2      0.00           1  \n",
       "1     731.9400         3      0.00           1  \n",
       "2      14.6200         2      0.00           1  \n",
       "3     957.5775         5      0.45           0  \n",
       "4      22.3680         2      0.20           1  \n",
       "...        ...       ...       ...         ...  \n",
       "9989   25.2480         3      0.20           1  \n",
       "9990   91.9600         2      0.00           1  \n",
       "9991  258.5760         2      0.20           1  \n",
       "9992   29.6000         4      0.00           1  \n",
       "9993  243.1600         2      0.00           1  \n",
       "\n",
       "[9994 rows x 11 columns]"
      ]
     },
     "execution_count": 5,
     "metadata": {},
     "output_type": "execute_result"
    }
   ],
   "source": [
    "df_model1 = df_tidy.drop('Profit', axis=1)\n",
    "df_model1"
   ]
  },
  {
   "cell_type": "code",
   "execution_count": 6,
   "metadata": {},
   "outputs": [
    {
     "name": "stdout",
     "output_type": "stream",
     "text": [
      "[[ 3.   1.  24.  ...  2.   0.   1. ]\n",
      " [ 3.   1.  24.  ...  3.   0.   1. ]\n",
      " [ 3.   0.   5.  ...  2.   0.   1. ]\n",
      " ...\n",
      " [ 1.   1.   5.  ...  2.   0.2  1. ]\n",
      " [ 1.   1.   5.  ...  4.   0.   1. ]\n",
      " [ 3.   1.   5.  ...  2.   0.   1. ]]\n"
     ]
    }
   ],
   "source": [
    "#\n",
    "# convert our dataframe to a numpy array, named A\n",
    "#\n",
    "A = df_model1.to_numpy()   \n",
    "print(A)"
   ]
  },
  {
   "cell_type": "code",
   "execution_count": 7,
   "metadata": {},
   "outputs": [
    {
     "name": "stdout",
     "output_type": "stream",
     "text": [
      "[[ 3.   1.  24.  ...  2.   0.   1. ]\n",
      " [ 3.   1.  24.  ...  3.   0.   1. ]\n",
      " [ 3.   0.   5.  ...  2.   0.   1. ]\n",
      " ...\n",
      " [ 1.   1.   5.  ...  2.   0.2  1. ]\n",
      " [ 1.   1.   5.  ...  4.   0.   1. ]\n",
      " [ 3.   1.   5.  ...  2.   0.   1. ]]\n"
     ]
    }
   ],
   "source": [
    "#\n",
    "# let's make sure it's all floating-point\n",
    "#\n",
    "A = A.astype('float64')  # so many:  www.tutorialspoint.com/numpy/numpy_data_types.htm\n",
    "print(A)"
   ]
  },
  {
   "cell_type": "code",
   "execution_count": 8,
   "metadata": {},
   "outputs": [
    {
     "name": "stdout",
     "output_type": "stream",
     "text": [
      "\n",
      "The dataset has 9994 rows and 11 cols\n"
     ]
    }
   ],
   "source": [
    "#\n",
    "# nice to have NUM_ROWS and NUM_COLS around\n",
    "#\n",
    "NUM_ROWS, NUM_COLS = A.shape\n",
    "print(f\"\\nThe dataset has {NUM_ROWS} rows and {NUM_COLS} cols\")"
   ]
  },
  {
   "cell_type": "code",
   "execution_count": 9,
   "metadata": {},
   "outputs": [
    {
     "name": "stdout",
     "output_type": "stream",
     "text": [
      "+++ Start of data definitions +++\n",
      "\n",
      "y_all (just the labels/species)   are \n",
      " [1. 1. 1. ... 1. 1. 1.]\n",
      "X_all (just the features, first few rows) are \n",
      " [[3.000000e+00 1.000000e+00 2.400000e+01 4.242000e+04 0.000000e+00\n",
      "  2.000000e+00 5.000000e+00 2.619600e+02 2.000000e+00 0.000000e+00]\n",
      " [3.000000e+00 1.000000e+00 2.400000e+01 4.242000e+04 0.000000e+00\n",
      "  2.000000e+00 0.000000e+00 7.319400e+02 3.000000e+00 0.000000e+00]\n",
      " [3.000000e+00 0.000000e+00 5.000000e+00 9.003600e+04 3.000000e+00\n",
      "  1.000000e+00 1.000000e+00 1.462000e+01 2.000000e+00 0.000000e+00]\n",
      " [1.000000e+00 1.000000e+00 2.000000e+00 3.331100e+04 0.000000e+00\n",
      "  2.000000e+00 1.500000e+01 9.575775e+02 5.000000e+00 4.500000e-01]\n",
      " [1.000000e+00 1.000000e+00 2.000000e+00 3.331100e+04 0.000000e+00\n",
      "  1.000000e+00 1.400000e+01 2.236800e+01 2.000000e+00 2.000000e-01]]\n"
     ]
    }
   ],
   "source": [
    "print(\"+++ Start of data definitions +++\\n\")\n",
    "\n",
    "X_all = A[:,0:10]  # X (features) ... is all rows, columns 0 to 10th\n",
    "y_all = A[:,10]    # y (labels) ... is all rows, column 11 only\n",
    "\n",
    "print(f\"y_all (just the labels/species)   are \\n {y_all}\")\n",
    "print(f\"X_all (just the features, first few rows) are \\n {X_all[0:5]}\")"
   ]
  },
  {
   "cell_type": "code",
   "execution_count": 10,
   "metadata": {},
   "outputs": [
    {
     "name": "stdout",
     "output_type": "stream",
     "text": [
      "The scrambled labels/species are \n",
      " [1. 1. 1. ... 1. 1. 1.]\n",
      "The corresponding data rows are \n",
      " [[3.00000e+00 2.00000e+00 5.00000e+00 9.39050e+04 3.00000e+00 2.00000e+00\n",
      "  5.00000e+00 1.48257e+02 3.00000e+00 1.50000e-01]\n",
      " [2.00000e+00 2.00000e+00 3.80000e+01 7.70410e+04 1.00000e+00 1.00000e+00\n",
      "  1.00000e+01 6.55840e+01 2.00000e+00 2.00000e-01]\n",
      " [1.00000e+00 1.00000e+00 5.00000e+00 9.08050e+04 3.00000e+00 1.00000e+00\n",
      "  1.00000e+00 2.96000e+01 2.00000e+00 0.00000e+00]\n",
      " [1.00000e+00 2.00000e+00 3.20000e+01 3.70420e+04 0.00000e+00 2.00000e+00\n",
      "  5.00000e+00 3.87136e+02 4.00000e+00 2.00000e-01]\n",
      " [2.00000e+00 1.00000e+00 3.70000e+01 2.85400e+04 0.00000e+00 1.00000e+00\n",
      "  7.00000e+00 2.17440e+01 1.00000e+00 2.00000e-01]]\n"
     ]
    }
   ],
   "source": [
    "#\n",
    "# we scramble the data, to remove (potential) dependence on its ordering: \n",
    "# \n",
    "indices = np.random.permutation(len(y_all))  # indices is a permutation-list\n",
    "\n",
    "# we scramble both X and y, necessarily with the same permutation\n",
    "X_permed = X_all[indices]              # we apply the _same_ permutation to each!\n",
    "y_permed = y_all[indices]              # again...\n",
    "print(f\"The scrambled labels/species are \\n {y_permed}\")\n",
    "print(f\"The corresponding data rows are \\n {X_permed[0:5]}\")"
   ]
  },
  {
   "cell_type": "code",
   "execution_count": 11,
   "metadata": {},
   "outputs": [
    {
     "name": "stdout",
     "output_type": "stream",
     "text": [
      "training with 7995 rows;  testing with 1999 rows\n",
      "\n",
      "Held-out data... (testing data: 1999)\n",
      "y_test: [1. 1. 1. ... 1. 1. 0.]\n",
      "\n",
      "X_test (few rows): [[2.00000e+00 0.00000e+00 2.00000e+00 3.38010e+04 0.00000e+00 1.00000e+00\n",
      "  1.40000e+01 5.63808e+02 4.00000e+00 2.00000e-01]\n",
      " [3.00000e+00 1.00000e+00 5.00000e+00 9.41100e+04 3.00000e+00 1.00000e+00\n",
      "  9.00000e+00 3.66720e+01 2.00000e+00 2.00000e-01]\n",
      " [1.00000e+00 0.00000e+00 1.80000e+01 6.58070e+04 1.00000e+00 2.00000e+00\n",
      "  8.00000e+00 3.73000e+01 2.00000e+00 0.00000e+00]\n",
      " [1.00000e+00 2.00000e+00 3.80000e+01 7.70410e+04 1.00000e+00 2.00000e+00\n",
      "  0.00000e+00 2.12058e+02 3.00000e+00 3.00000e-01]\n",
      " [1.00000e+00 1.00000e+00 5.00000e+00 9.00360e+04 3.00000e+00 2.00000e+00\n",
      "  1.50000e+01 1.71288e+02 3.00000e+00 2.00000e-01]]\n",
      "\n",
      "Data used for modeling... (training data: 7995)\n",
      "y_train: [0. 1. 1. ... 1. 1. 0.]\n",
      "\n",
      "X_train (few rows): [[1.0000e+00 1.0000e+00 3.8000e+01 7.7095e+04 1.0000e+00 1.0000e+00\n",
      "  1.3000e+01 2.2640e+00 1.0000e+00 8.0000e-01]\n",
      " [1.0000e+00 1.0000e+00 3.1000e+01 1.0024e+04 2.0000e+00 1.0000e+00\n",
      "  1.4000e+01 2.4857e+02 7.0000e+00 0.0000e+00]\n",
      " [1.0000e+00 1.0000e+00 4.1000e+01 8.5323e+04 3.0000e+00 1.0000e+00\n",
      "  1.2000e+01 4.7992e+01 7.0000e+00 2.0000e-01]\n",
      " [3.0000e+00 1.0000e+00 2.4000e+01 4.0214e+04 0.0000e+00 1.0000e+00\n",
      "  1.4000e+01 9.5940e+01 3.0000e+00 0.0000e+00]\n",
      " [1.0000e+00 1.0000e+00 5.0000e+00 9.4122e+04 3.0000e+00 2.0000e+00\n",
      "  8.0000e+00 3.0800e+01 4.0000e+00 0.0000e+00]]\n"
     ]
    }
   ],
   "source": [
    "\n",
    "#\n",
    "# a common convention:  train on 80%, test on 20%    Let's define the TEST_PERCENT\n",
    "#\n",
    "\n",
    "from sklearn.model_selection import train_test_split\n",
    "\n",
    "X_train, X_test, y_train, y_test = train_test_split(X_all, y_all, test_size=0.2, random_state=42)\n",
    "\n",
    "print(f\"training with {len(y_train)} rows;  testing with {len(y_test)} rows\\n\" )\n",
    "\n",
    "print(f\"Held-out data... (testing data: {len(y_test)})\")\n",
    "print(f\"y_test: {y_test}\\n\")\n",
    "print(f\"X_test (few rows): {X_test[0:5,:]}\")  # 5 rows\n",
    "print()\n",
    "print(f\"Data used for modeling... (training data: {len(y_train)})\")\n",
    "print(f\"y_train: {y_train}\\n\")\n",
    "print(f\"X_train (few rows): {X_train[0:5,:]}\")  # 5 rows"
   ]
  },
  {
   "cell_type": "markdown",
   "metadata": {},
   "source": [
    "<br>\n",
    "\n",
    "#### Starting Decision Tree Modeling"
   ]
  },
  {
   "cell_type": "code",
   "execution_count": 12,
   "metadata": {},
   "outputs": [
    {
     "name": "stdout",
     "output_type": "stream",
     "text": [
      "Created and trained a DT classifier with max depth = 1\n"
     ]
    }
   ],
   "source": [
    "   \n",
    "# Create a DT model and train it! \n",
    "#\n",
    "from sklearn import tree  \n",
    "\n",
    "best_depth = 1   \n",
    "dtree_model = tree.DecisionTreeClassifier(max_depth=best_depth)\n",
    "\n",
    "# Let's train the model.   It's this one line:\n",
    "dtree_model.fit(X_train, y_train)                            \n",
    "print(\"Created and trained a DT classifier with max depth =\", best_depth) "
   ]
  },
  {
   "cell_type": "code",
   "execution_count": 13,
   "metadata": {},
   "outputs": [],
   "source": [
    "#\n",
    "# Let's print these more helpfully, in a vertical table\n",
    "#\n",
    "\n",
    "def compare_labels(predicted_labels, actual_labels):\n",
    "    \"\"\" a more neatly formatted comparison \"\"\"\n",
    "    NUM_LABELS = len(predicted_labels)\n",
    "    num_correct = 0\n",
    "    \n",
    "    for i in range(NUM_LABELS):\n",
    "        p = int(round(predicted_labels[i]))         # round protects from fp error \n",
    "        a = int(round(actual_labels[i]))\n",
    "        result = \"incorrect\"\n",
    "        if p == a:  # if they match,\n",
    "            result = \"\"       # no longer incorrect\n",
    "            num_correct += 1  # and we count a match!\n",
    "\n",
    "        # print(f\"row {i:>3d} : {SPECIES[p]:>12s} {SPECIES[a]:<12s}   {result}\")   \n",
    "\n",
    "    print()\n",
    "    print(\"Correct:\", num_correct, \"out of\", NUM_LABELS)\n",
    "    print(\"The percentage accuracy is, \", num_correct*100/NUM_LABELS)\n",
    "    return num_correct\n",
    "\n",
    "# let's try it out!\n",
    "# compare_labels(predicted_labels,actual_labels)"
   ]
  },
  {
   "cell_type": "markdown",
   "metadata": {},
   "source": [
    "<br>\n",
    "\n",
    "#### The online tree-visualizer is at [http://viz-js.com/](http://viz-js.com/)"
   ]
  },
  {
   "cell_type": "code",
   "execution_count": 14,
   "metadata": {
    "scrolled": true
   },
   "outputs": [
    {
     "name": "stdout",
     "output_type": "stream",
     "text": [
      "depth:  1  cv accuracy:  0.9382\n",
      "depth:  2  cv accuracy:  0.9382\n",
      "depth:  3  cv accuracy:  0.9393\n",
      "depth:  4  cv accuracy:  0.9388\n",
      "depth:  5  cv accuracy:  0.9422\n",
      "depth:  6  cv accuracy:  0.9432\n",
      "depth:  7  cv accuracy:  0.9422\n",
      "depth:  8  cv accuracy:  0.9390\n",
      "depth:  9  cv accuracy:  0.9357\n",
      "depth: 10  cv accuracy:  0.9333\n",
      "depth: 11  cv accuracy:  0.9338\n",
      "depth: 12  cv accuracy:  0.9327\n",
      "depth: 13  cv accuracy:  0.9326\n",
      "depth: 14  cv accuracy:  0.9313\n",
      "depth: 15  cv accuracy:  0.9316\n",
      "depth: 16  cv accuracy:  0.9305\n",
      "depth: 17  cv accuracy:  0.9298\n",
      "depth: 18  cv accuracy:  0.9303\n",
      "depth: 19  cv accuracy:  0.9306\n",
      "depth: 20  cv accuracy:  0.9306\n",
      "depth: 21  cv accuracy:  0.9301\n",
      "depth: 22  cv accuracy:  0.9316\n",
      "depth: 23  cv accuracy:  0.9312\n",
      "depth: 24  cv accuracy:  0.9315\n",
      "depth: 25  cv accuracy:  0.9310\n",
      "depth: 26  cv accuracy:  0.9316\n",
      "depth: 27  cv accuracy:  0.9320\n",
      "depth: 28  cv accuracy:  0.9307\n",
      "depth: 29  cv accuracy:  0.9320\n",
      "depth: 30  cv accuracy:  0.9303\n",
      "depth: 31  cv accuracy:  0.9306\n",
      "depth: 32  cv accuracy:  0.9310\n",
      "depth: 33  cv accuracy:  0.9295\n",
      "depth: 34  cv accuracy:  0.9335\n",
      "depth: 35  cv accuracy:  0.9310\n",
      "depth: 36  cv accuracy:  0.9303\n",
      "depth: 37  cv accuracy:  0.9312\n",
      "depth: 38  cv accuracy:  0.9298\n",
      "depth: 39  cv accuracy:  0.9331\n",
      "depth: 40  cv accuracy:  0.9308\n",
      "depth: 41  cv accuracy:  0.9303\n",
      "depth: 42  cv accuracy:  0.9302\n",
      "depth: 43  cv accuracy:  0.9327\n",
      "depth: 44  cv accuracy:  0.9302\n",
      "depth: 45  cv accuracy:  0.9316\n",
      "depth: 46  cv accuracy:  0.9297\n",
      "depth: 47  cv accuracy:  0.9300\n",
      "depth: 48  cv accuracy:  0.9318\n",
      "depth: 49  cv accuracy:  0.9317\n",
      "depth: 50  cv accuracy:  0.9320\n",
      "depth: 51  cv accuracy:  0.9317\n",
      "depth: 52  cv accuracy:  0.9315\n",
      "depth: 53  cv accuracy:  0.9298\n",
      "depth: 54  cv accuracy:  0.9288\n",
      "depth: 55  cv accuracy:  0.9325\n",
      "depth: 56  cv accuracy:  0.9310\n",
      "depth: 57  cv accuracy:  0.9307\n",
      "depth: 58  cv accuracy:  0.9313\n",
      "depth: 59  cv accuracy:  0.9311\n",
      "depth: 60  cv accuracy:  0.9308\n",
      "depth: 61  cv accuracy:  0.9320\n",
      "depth: 62  cv accuracy:  0.9311\n",
      "depth: 63  cv accuracy:  0.9325\n",
      "depth: 64  cv accuracy:  0.9302\n",
      "depth: 65  cv accuracy:  0.9327\n",
      "depth: 66  cv accuracy:  0.9315\n",
      "depth: 67  cv accuracy:  0.9315\n",
      "depth: 68  cv accuracy:  0.9316\n",
      "depth: 69  cv accuracy:  0.9311\n",
      "depth: 70  cv accuracy:  0.9315\n",
      "depth: 71  cv accuracy:  0.9315\n",
      "depth: 72  cv accuracy:  0.9307\n",
      "depth: 73  cv accuracy:  0.9313\n",
      "depth: 74  cv accuracy:  0.9316\n",
      "depth: 75  cv accuracy:  0.9308\n",
      "depth: 76  cv accuracy:  0.9315\n",
      "depth: 77  cv accuracy:  0.9307\n",
      "depth: 78  cv accuracy:  0.9303\n",
      "depth: 79  cv accuracy:  0.9301\n",
      "depth: 80  cv accuracy:  0.9315\n",
      "depth: 81  cv accuracy:  0.9301\n",
      "depth: 82  cv accuracy:  0.9307\n",
      "depth: 83  cv accuracy:  0.9305\n",
      "depth: 84  cv accuracy:  0.9306\n",
      "depth: 85  cv accuracy:  0.9326\n",
      "depth: 86  cv accuracy:  0.9332\n",
      "depth: 87  cv accuracy:  0.9295\n",
      "depth: 88  cv accuracy:  0.9310\n",
      "depth: 89  cv accuracy:  0.9308\n",
      "depth: 90  cv accuracy:  0.9316\n",
      "depth: 91  cv accuracy:  0.9312\n",
      "depth: 92  cv accuracy:  0.9310\n",
      "depth: 93  cv accuracy:  0.9333\n",
      "depth: 94  cv accuracy:  0.9317\n",
      "depth: 95  cv accuracy:  0.9298\n",
      "depth: 96  cv accuracy:  0.9321\n",
      "depth: 97  cv accuracy:  0.9297\n",
      "depth: 98  cv accuracy:  0.9321\n",
      "depth: 99  cv accuracy:  0.9321\n",
      "\n",
      "best_depth = 6 is our choice for an underfitting/overfitting balance.\n"
     ]
    }
   ],
   "source": [
    "#\n",
    "# To compare different tree-depths, we use cross validation to get the best_d\n",
    "#\n",
    "\n",
    "from sklearn.model_selection import cross_val_score\n",
    "\n",
    "#\n",
    "# cross-validation splits the training set into two pieces:\n",
    "#   + model-building and model-validation. We'll use \"build\" and \"validate\"\n",
    "#\n",
    "\n",
    "best_d = 1\n",
    "best_accuracy = 0.0\n",
    "\n",
    "for d in range(1,100):\n",
    "    cv_model = tree.DecisionTreeClassifier(max_depth=d)   # for each depth, d\n",
    "    cv_scores = cross_val_score( cv_model, X_train, y_train, cv=5 ) # 5 means 80/20 split\n",
    "    # print(cv_scores)  # we usually don't want to see the five individual scores \n",
    "    average_cv_accuracy = cv_scores.mean()  # more likely, only their average\n",
    "    print(f\"depth: {d:2d}  cv accuracy: {average_cv_accuracy:7.4f}\")\n",
    "    \n",
    "    if average_cv_accuracy > best_accuracy: \n",
    "        best_accuracy = average_cv_accuracy\n",
    "        best_d = d\n",
    "\n",
    "# assign best value of d to best_depth\n",
    "best_depth = best_d   # may have to hand-tune this, depending on what happens...\n",
    "print()\n",
    "print(f\"best_depth = {best_depth} is our choice for an underfitting/overfitting balance.\")  "
   ]
  },
  {
   "cell_type": "code",
   "execution_count": 15,
   "metadata": {},
   "outputs": [
    {
     "name": "stdout",
     "output_type": "stream",
     "text": [
      "Created and trained a DT classifier with max depth = 6\n"
     ]
    }
   ],
   "source": [
    "# rerun\n",
    "#\n",
    "from sklearn import tree      # for decision trees\n",
    "\n",
    "# we should have best_depth from our cv exploration\n",
    "dtree_model_tuned = tree.DecisionTreeClassifier(max_depth=best_depth)\n",
    "\n",
    "# we train the model (it's one line!)\n",
    "dtree_model_tuned.fit(X_train, y_train)                              # yay!  trained!\n",
    "print(\"Created and trained a DT classifier with max depth =\", best_depth) "
   ]
  },
  {
   "cell_type": "code",
   "execution_count": 16,
   "metadata": {},
   "outputs": [
    {
     "name": "stdout",
     "output_type": "stream",
     "text": [
      "file super_score_tree_data.gv written. Try pasting its contents to  http://viz-js.com/\n",
      "\n",
      "digraph Tree {\n",
      "node [shape=box, style=\"filled\", color=\"black\", fontname=\"helvetica\"] ;\n",
      "graph [ranksep=equally, splines=polyline] ;\n",
      "edge [fontname=\"helvetica\"] ;\n",
      "0 [label=\"Discount <= 0.25\\ngini = 0.314\\nsamples = 7995\\nvalue = [1559, 6436]\\nclass = Profit\", fillcolor=\"#69b5eb\"] ;\n",
      "1 [label=\"Discount <= 0.125\\ngini = 0.126\\nsamples = 6874\\nvalue = [466, 6408]\\nclass = Profit\", fillcolor=\"#47a4e7\"] ;\n",
      "0 -> 1 [labeldistance=2.5, labelangle=45, headlabel=\"True\"] ;\n",
      "2 [label=\"Sub-Category <= 13.5\\ngini = 0.014\\nsamples = 3906\\nvalue = [27, 3879]\\nclass = Profit\", fillcolor=\"#3a9ee5\"] ;\n",
      "1 -> 2 ;\n",
      "3 [label=\"Discount <= 0.05\\ngini = 0.004\\nsamples = 3171\\nvalue = [6, 3165]\\nclass = Profit\", fillcolor=\"#399de5\"] ;\n",
      "2 -> 3 ;\n",
      "4 [label=\"Sales <= 5.945\\ngini = 0.002\\nsamples = 3093\\nvalue = [3, 3090]\\nclass = Profit\", fillcolor=\"#399de5\"] ;\n",
      "3 -> 4 ;\n",
      "5 [label=\"Sales <= 5.93\\ngini = 0.025\\nsamples = 161\\nvalue = [2, 159]\\nclass = Profit\", fillcolor=\"#3b9ee5\"] ;\n",
      "4 -> 5 ;\n",
      "6 [label=\"gini = 0.012\\nsamples = 159\\nvalue = [1, 158]\\nclass = Profit\", fillcolor=\"#3a9ee5\"] ;\n",
      "5 -> 6 ;\n",
      "7 [label=\"gini = 0.5\\nsamples = 2\\nvalue = [1, 1]\\nclass = No Profit\", fillcolor=\"#ffffff\"] ;\n",
      "5 -> 7 ;\n",
      "8 [label=\"Sub-Category <= 2.5\\ngini = 0.001\\nsamples = 2932\\nvalue = [1, 2931]\\nclass = Profit\", fillcolor=\"#399de5\"] ;\n",
      "4 -> 8 ;\n",
      "9 [label=\"gini = 0.006\\nsamples = 352\\nvalue = [1, 351]\\nclass = Profit\", fillcolor=\"#3a9de5\"] ;\n",
      "8 -> 9 ;\n",
      "10 [label=\"gini = 0.0\\nsamples = 2580\\nvalue = [0, 2580]\\nclass = Profit\", fillcolor=\"#399de5\"] ;\n",
      "8 -> 10 ;\n",
      "11 [label=\"Segment <= 1.5\\ngini = 0.074\\nsamples = 78\\nvalue = [3, 75]\\nclass = Profit\", fillcolor=\"#41a1e6\"] ;\n",
      "3 -> 11 ;\n",
      "12 [label=\"Ship Mode <= 1.5\\ngini = 0.031\\nsamples = 64\\nvalue = [1, 63]\\nclass = Profit\", fillcolor=\"#3c9fe5\"] ;\n",
      "11 -> 12 ;\n",
      "13 [label=\"gini = 0.0\\nsamples = 45\\nvalue = [0, 45]\\nclass = Profit\", fillcolor=\"#399de5\"] ;\n",
      "12 -> 13 ;\n",
      "14 [label=\"gini = 0.1\\nsamples = 19\\nvalue = [1, 18]\\nclass = Profit\", fillcolor=\"#44a2e6\"] ;\n",
      "12 -> 14 ;\n",
      "15 [label=\"Sales <= 184.248\\ngini = 0.245\\nsamples = 14\\nvalue = [2, 12]\\nclass = Profit\", fillcolor=\"#5aade9\"] ;\n",
      "11 -> 15 ;\n",
      "16 [label=\"gini = 0.444\\nsamples = 6\\nvalue = [2, 4]\\nclass = Profit\", fillcolor=\"#9ccef2\"] ;\n",
      "15 -> 16 ;\n",
      "17 [label=\"gini = 0.0\\nsamples = 8\\nvalue = [0, 8]\\nclass = Profit\", fillcolor=\"#399de5\"] ;\n",
      "15 -> 17 ;\n",
      "18 [label=\"Sub-Category <= 14.5\\ngini = 0.056\\nsamples = 735\\nvalue = [21, 714]\\nclass = Profit\", fillcolor=\"#3fa0e6\"] ;\n",
      "2 -> 18 ;\n",
      "19 [label=\"Sales <= 202.32\\ngini = 0.087\\nsamples = 419\\nvalue = [19, 400]\\nclass = Profit\", fillcolor=\"#42a2e6\"] ;\n",
      "18 -> 19 ;\n",
      "20 [label=\"Postal Code <= 94116.0\\ngini = 0.04\\nsamples = 244\\nvalue = [5, 239]\\nclass = Profit\", fillcolor=\"#3d9fe6\"] ;\n",
      "19 -> 20 ;\n",
      "21 [label=\"gini = 0.02\\nsamples = 201\\nvalue = [2, 199]\\nclass = Profit\", fillcolor=\"#3b9ee5\"] ;\n",
      "20 -> 21 ;\n",
      "22 [label=\"gini = 0.13\\nsamples = 43\\nvalue = [3, 40]\\nclass = Profit\", fillcolor=\"#48a4e7\"] ;\n",
      "20 -> 22 ;\n",
      "23 [label=\"State <= 47.0\\ngini = 0.147\\nsamples = 175\\nvalue = [14, 161]\\nclass = Profit\", fillcolor=\"#4aa6e7\"] ;\n",
      "19 -> 23 ;\n",
      "24 [label=\"gini = 0.138\\nsamples = 174\\nvalue = [13, 161]\\nclass = Profit\", fillcolor=\"#49a5e7\"] ;\n",
      "23 -> 24 ;\n",
      "25 [label=\"gini = 0.0\\nsamples = 1\\nvalue = [1, 0]\\nclass = No Profit\", fillcolor=\"#e58139\"] ;\n",
      "23 -> 25 ;\n",
      "26 [label=\"Quantity <= 12.5\\ngini = 0.013\\nsamples = 316\\nvalue = [2, 314]\\nclass = Profit\", fillcolor=\"#3a9ee5\"] ;\n",
      "18 -> 26 ;\n",
      "27 [label=\"Sales <= 59.975\\ngini = 0.006\\nsamples = 313\\nvalue = [1, 312]\\nclass = Profit\", fillcolor=\"#3a9de5\"] ;\n",
      "26 -> 27 ;\n",
      "28 [label=\"gini = 0.048\\nsamples = 41\\nvalue = [1, 40]\\nclass = Profit\", fillcolor=\"#3e9fe6\"] ;\n",
      "27 -> 28 ;\n",
      "29 [label=\"gini = 0.0\\nsamples = 272\\nvalue = [0, 272]\\nclass = Profit\", fillcolor=\"#399de5\"] ;\n",
      "27 -> 29 ;\n",
      "30 [label=\"Segment <= 1.5\\ngini = 0.444\\nsamples = 3\\nvalue = [1, 2]\\nclass = Profit\", fillcolor=\"#9ccef2\"] ;\n",
      "26 -> 30 ;\n",
      "31 [label=\"gini = 0.0\\nsamples = 2\\nvalue = [0, 2]\\nclass = Profit\", fillcolor=\"#399de5\"] ;\n",
      "30 -> 31 ;\n",
      "32 [label=\"gini = 0.0\\nsamples = 1\\nvalue = [1, 0]\\nclass = No Profit\", fillcolor=\"#e58139\"] ;\n",
      "30 -> 32 ;\n",
      "33 [label=\"Sales <= 63.952\\ngini = 0.252\\nsamples = 2968\\nvalue = [439, 2529]\\nclass = Profit\", fillcolor=\"#5baeea\"] ;\n",
      "1 -> 33 ;\n",
      "34 [label=\"Category <= 0.5\\ngini = 0.138\\nsamples = 1582\\nvalue = [118, 1464]\\nclass = Profit\", fillcolor=\"#49a5e7\"] ;\n",
      "33 -> 34 ;\n",
      "35 [label=\"Sales <= 15.988\\ngini = 0.43\\nsamples = 176\\nvalue = [55, 121]\\nclass = Profit\", fillcolor=\"#93caf1\"] ;\n",
      "34 -> 35 ;\n",
      "36 [label=\"State <= 39.5\\ngini = 0.142\\nsamples = 26\\nvalue = [2, 24]\\nclass = Profit\", fillcolor=\"#49a5e7\"] ;\n",
      "35 -> 36 ;\n",
      "37 [label=\"gini = 0.0\\nsamples = 21\\nvalue = [0, 21]\\nclass = Profit\", fillcolor=\"#399de5\"] ;\n",
      "36 -> 37 ;\n",
      "38 [label=\"gini = 0.48\\nsamples = 5\\nvalue = [2, 3]\\nclass = Profit\", fillcolor=\"#bddef6\"] ;\n",
      "36 -> 38 ;\n",
      "39 [label=\"Sales <= 31.188\\ngini = 0.457\\nsamples = 150\\nvalue = [53, 97]\\nclass = Profit\", fillcolor=\"#a5d3f3\"] ;\n",
      "35 -> 39 ;\n",
      "40 [label=\"gini = 0.499\\nsamples = 50\\nvalue = [24, 26]\\nclass = Profit\", fillcolor=\"#f0f7fd\"] ;\n",
      "39 -> 40 ;\n",
      "41 [label=\"gini = 0.412\\nsamples = 100\\nvalue = [29, 71]\\nclass = Profit\", fillcolor=\"#8ac5f0\"] ;\n",
      "39 -> 41 ;\n",
      "42 [label=\"Sub-Category <= 11.0\\ngini = 0.086\\nsamples = 1406\\nvalue = [63, 1343]\\nclass = Profit\", fillcolor=\"#42a2e6\"] ;\n",
      "34 -> 42 ;\n",
      "43 [label=\"Sub-Category <= 2.5\\ngini = 0.026\\nsamples = 1225\\nvalue = [16, 1209]\\nclass = Profit\", fillcolor=\"#3c9ee5\"] ;\n",
      "42 -> 43 ;\n",
      "44 [label=\"gini = 0.12\\nsamples = 171\\nvalue = [11, 160]\\nclass = Profit\", fillcolor=\"#47a4e7\"] ;\n",
      "43 -> 44 ;\n",
      "45 [label=\"gini = 0.009\\nsamples = 1054\\nvalue = [5, 1049]\\nclass = Profit\", fillcolor=\"#3a9de5\"] ;\n",
      "43 -> 45 ;\n",
      "46 [label=\"Sales <= 53.088\\ngini = 0.384\\nsamples = 181\\nvalue = [47, 134]\\nclass = Profit\", fillcolor=\"#7ebfee\"] ;\n",
      "42 -> 46 ;\n",
      "47 [label=\"gini = 0.416\\nsamples = 159\\nvalue = [47, 112]\\nclass = Profit\", fillcolor=\"#8cc6f0\"] ;\n",
      "46 -> 47 ;\n",
      "48 [label=\"gini = 0.0\\nsamples = 22\\nvalue = [0, 22]\\nclass = Profit\", fillcolor=\"#399de5\"] ;\n",
      "46 -> 48 ;\n",
      "49 [label=\"Sub-Category <= 15.5\\ngini = 0.356\\nsamples = 1386\\nvalue = [321, 1065]\\nclass = Profit\", fillcolor=\"#75bbed\"] ;\n",
      "33 -> 49 ;\n",
      "50 [label=\"Sub-Category <= 13.5\\ngini = 0.405\\nsamples = 1087\\nvalue = [307, 780]\\nclass = Profit\", fillcolor=\"#87c4ef\"] ;\n",
      "49 -> 50 ;\n",
      "51 [label=\"Category <= 1.5\\ngini = 0.323\\nsamples = 868\\nvalue = [176, 692]\\nclass = Profit\", fillcolor=\"#6bb6ec\"] ;\n",
      "50 -> 51 ;\n",
      "52 [label=\"gini = 0.161\\nsamples = 521\\nvalue = [46, 475]\\nclass = Profit\", fillcolor=\"#4ca6e8\"] ;\n",
      "51 -> 52 ;\n",
      "53 [label=\"gini = 0.469\\nsamples = 347\\nvalue = [130, 217]\\nclass = Profit\", fillcolor=\"#b0d8f5\"] ;\n",
      "51 -> 53 ;\n",
      "54 [label=\"State <= 8.5\\ngini = 0.481\\nsamples = 219\\nvalue = [131, 88]\\nclass = No Profit\", fillcolor=\"#f6d6be\"] ;\n",
      "50 -> 54 ;\n",
      "55 [label=\"gini = 0.485\\nsamples = 70\\nvalue = [29, 41]\\nclass = Profit\", fillcolor=\"#c5e2f7\"] ;\n",
      "54 -> 55 ;\n",
      "56 [label=\"gini = 0.432\\nsamples = 149\\nvalue = [102, 47]\\nclass = No Profit\", fillcolor=\"#f1bb94\"] ;\n",
      "54 -> 56 ;\n",
      "57 [label=\"Sales <= 85.568\\ngini = 0.089\\nsamples = 299\\nvalue = [14, 285]\\nclass = Profit\", fillcolor=\"#43a2e6\"] ;\n",
      "49 -> 57 ;\n",
      "58 [label=\"Sales <= 84.384\\ngini = 0.444\\nsamples = 21\\nvalue = [7, 14]\\nclass = Profit\", fillcolor=\"#9ccef2\"] ;\n",
      "57 -> 58 ;\n",
      "59 [label=\"gini = 0.346\\nsamples = 18\\nvalue = [4, 14]\\nclass = Profit\", fillcolor=\"#72b9ec\"] ;\n",
      "58 -> 59 ;\n",
      "60 [label=\"gini = 0.0\\nsamples = 3\\nvalue = [3, 0]\\nclass = No Profit\", fillcolor=\"#e58139\"] ;\n",
      "58 -> 60 ;\n",
      "61 [label=\"Postal Code <= 97215.0\\ngini = 0.049\\nsamples = 278\\nvalue = [7, 271]\\nclass = Profit\", fillcolor=\"#3ea0e6\"] ;\n",
      "57 -> 61 ;\n",
      "62 [label=\"gini = 0.031\\nsamples = 250\\nvalue = [4, 246]\\nclass = Profit\", fillcolor=\"#3c9fe5\"] ;\n",
      "61 -> 62 ;\n",
      "63 [label=\"gini = 0.191\\nsamples = 28\\nvalue = [3, 25]\\nclass = Profit\", fillcolor=\"#51a9e8\"] ;\n",
      "61 -> 63 ;\n",
      "64 [label=\"Category <= 0.5\\ngini = 0.049\\nsamples = 1121\\nvalue = [1093, 28]\\nclass = No Profit\", fillcolor=\"#e6843e\"] ;\n",
      "0 -> 64 [labeldistance=2.5, labelangle=-45, headlabel=\"False\"] ;\n",
      "65 [label=\"Sub-Category <= 7.5\\ngini = 0.299\\nsamples = 142\\nvalue = [116, 26]\\nclass = No Profit\", fillcolor=\"#eb9d65\"] ;\n",
      "64 -> 65 ;\n",
      "66 [label=\"gini = 0.0\\nsamples = 9\\nvalue = [0, 9]\\nclass = Profit\", fillcolor=\"#399de5\"] ;\n",
      "65 -> 66 ;\n",
      "67 [label=\"Discount <= 0.35\\ngini = 0.223\\nsamples = 133\\nvalue = [116, 17]\\nclass = No Profit\", fillcolor=\"#e99356\"] ;\n",
      "65 -> 67 ;\n",
      "68 [label=\"Segment <= 1.5\\ngini = 0.32\\nsamples = 5\\nvalue = [1, 4]\\nclass = Profit\", fillcolor=\"#6ab6ec\"] ;\n",
      "67 -> 68 ;\n",
      "69 [label=\"gini = 0.0\\nsamples = 1\\nvalue = [1, 0]\\nclass = No Profit\", fillcolor=\"#e58139\"] ;\n",
      "68 -> 69 ;\n",
      "70 [label=\"gini = 0.0\\nsamples = 4\\nvalue = [0, 4]\\nclass = Profit\", fillcolor=\"#399de5\"] ;\n",
      "68 -> 70 ;\n",
      "71 [label=\"Quantity <= 9.5\\ngini = 0.182\\nsamples = 128\\nvalue = [115, 13]\\nclass = No Profit\", fillcolor=\"#e88f4f\"] ;\n",
      "67 -> 71 ;\n",
      "72 [label=\"Quantity <= 2.5\\ngini = 0.147\\nsamples = 125\\nvalue = [115, 10]\\nclass = No Profit\", fillcolor=\"#e78c4a\"] ;\n",
      "71 -> 72 ;\n",
      "73 [label=\"gini = 0.0\\nsamples = 45\\nvalue = [45, 0]\\nclass = No Profit\", fillcolor=\"#e58139\"] ;\n",
      "72 -> 73 ;\n",
      "74 [label=\"gini = 0.219\\nsamples = 80\\nvalue = [70, 10]\\nclass = No Profit\", fillcolor=\"#e99355\"] ;\n",
      "72 -> 74 ;\n",
      "75 [label=\"gini = 0.0\\nsamples = 3\\nvalue = [0, 3]\\nclass = Profit\", fillcolor=\"#399de5\"] ;\n",
      "71 -> 75 ;\n",
      "76 [label=\"Postal Code <= 2544.5\\ngini = 0.004\\nsamples = 979\\nvalue = [977, 2]\\nclass = No Profit\", fillcolor=\"#e58139\"] ;\n",
      "64 -> 76 ;\n",
      "77 [label=\"Postal Code <= 2159.0\\ngini = 0.245\\nsamples = 7\\nvalue = [6, 1]\\nclass = No Profit\", fillcolor=\"#e9965a\"] ;\n",
      "76 -> 77 ;\n",
      "78 [label=\"gini = 0.0\\nsamples = 6\\nvalue = [6, 0]\\nclass = No Profit\", fillcolor=\"#e58139\"] ;\n",
      "77 -> 78 ;\n",
      "79 [label=\"gini = 0.0\\nsamples = 1\\nvalue = [0, 1]\\nclass = Profit\", fillcolor=\"#399de5\"] ;\n",
      "77 -> 79 ;\n",
      "80 [label=\"Sales <= 486.085\\ngini = 0.002\\nsamples = 972\\nvalue = [971, 1]\\nclass = No Profit\", fillcolor=\"#e58139\"] ;\n",
      "76 -> 80 ;\n",
      "81 [label=\"gini = 0.0\\nsamples = 864\\nvalue = [864, 0]\\nclass = No Profit\", fillcolor=\"#e58139\"] ;\n",
      "80 -> 81 ;\n",
      "82 [label=\"Sales <= 491.33\\ngini = 0.018\\nsamples = 108\\nvalue = [107, 1]\\nclass = No Profit\", fillcolor=\"#e5823b\"] ;\n",
      "80 -> 82 ;\n",
      "83 [label=\"gini = 0.0\\nsamples = 1\\nvalue = [0, 1]\\nclass = Profit\", fillcolor=\"#399de5\"] ;\n",
      "82 -> 83 ;\n",
      "84 [label=\"gini = 0.0\\nsamples = 107\\nvalue = [107, 0]\\nclass = No Profit\", fillcolor=\"#e58139\"] ;\n",
      "82 -> 84 ;\n",
      "{rank=same ; 0} ;\n",
      "{rank=same ; 1; 64} ;\n",
      "{rank=same ; 2; 33; 65; 76} ;\n",
      "{rank=same ; 3; 18; 34; 49; 67; 77; 80} ;\n",
      "{rank=same ; 4; 11; 19; 26; 35; 42; 50; 57; 68; 71; 82} ;\n",
      "{rank=same ; 5; 8; 12; 15; 20; 23; 27; 30; 36; 39; 43; 46; 51; 54; 58; 61; 72} ;\n",
      "{rank=same ; 6; 7; 9; 10; 13; 14; 16; 17; 21; 22; 24; 25; 28; 29; 31; 32; 37; 38; 40; 41; 44; 45; 47; 48; 52; 53; 55; 56; 59; 60; 62; 63; 66; 69; 70; 73; 74; 75; 78; 79; 81; 83; 84} ;\n",
      "}\n"
     ]
    }
   ],
   "source": [
    "#\n",
    "# Now, let's see the tree!\n",
    "#\n",
    "\n",
    "filename = 'super_score_tree_data.gv'    # sometimes .dot is used, instead of .gv\n",
    "\n",
    "tree.export_graphviz(dtree_model_tuned, out_file=filename,  # the filename constructed above...!\n",
    "                            feature_names=df_model1.columns[:-1], # actual feature names, not species\n",
    "                            filled=True,              # fun!\n",
    "                            rotate=False,             # False for Up/Down; True for L/R\n",
    "                            class_names=PROFITS,      # good to have   \n",
    "                            leaves_parallel=True )    # lots of options!\n",
    "\n",
    "print(f\"file {filename} written. Try pasting its contents to  http://viz-js.com/\\n\")\n",
    "\n",
    "with open(filename, \"r\") as f:\n",
    "    all_file_text = f.read()\n",
    "    print(all_file_text)\n",
    "    \n",
    "#\n",
    "# Lab task:  build trees at depths 1 and 2+ (submit in this notebook -- see next cell for depth-1 solution)\n",
    "#"
   ]
  },
  {
   "cell_type": "code",
   "execution_count": 17,
   "metadata": {},
   "outputs": [
    {
     "data": {
      "image/jpeg": "[encoded data removed]",
      "text/plain": [
       "<IPython.core.display.Image object>"
      ]
     },
     "execution_count": 17,
     "metadata": {},
     "output_type": "execute_result"
    }
   ],
   "source": [
    "#\n",
    "# include your screenshot locally, to this notebook...\n",
    "#\n",
    "\n",
    "from IPython import display\n",
    "display.Image(\"./tree_1.jpg\")  # be sure it has the right name, and is in this directory...\n",
    "\n",
    "# if you've displayed this cell's output, you don't need to submit the image file:\n",
    "# the notebook keeps an internal version of the image, which is all that's needed."
   ]
  },
  {
   "cell_type": "code",
   "execution_count": 18,
   "metadata": {},
   "outputs": [
    {
     "name": "stdout",
     "output_type": "stream",
     "text": [
      "Predicted labels: [1. 1. 1. ... 1. 0. 0.]\n",
      "Actual labels: [1. 1. 1. ... 1. 1. 0.]\n",
      "\n",
      "\n",
      "Correct: 1886 out of 1999\n",
      "The percentage accuracy is,  94.3471735867934\n"
     ]
    },
    {
     "data": {
      "text/plain": [
       "1886"
      ]
     },
     "execution_count": 18,
     "metadata": {},
     "output_type": "execute_result"
    }
   ],
   "source": [
    "#\n",
    "# Re-create and re-run the  \"Model-testing Cell\"     How does it do with best_k?!\n",
    "#\n",
    "predicted_labels = dtree_model_tuned.predict(X_test)\n",
    "actual_labels = y_test\n",
    "\n",
    "# Let's print them so we can compare...\n",
    "print(\"Predicted labels:\", predicted_labels)\n",
    "print(\"Actual labels:\", actual_labels)\n",
    "print()\n",
    "\n",
    "# and, we'll print our nicer table...\n",
    "compare_labels(predicted_labels,actual_labels)"
   ]
  },
  {
   "cell_type": "markdown",
   "metadata": {},
   "source": [
    "### Building a full model"
   ]
  },
  {
   "cell_type": "code",
   "execution_count": 19,
   "metadata": {},
   "outputs": [
    {
     "name": "stdout",
     "output_type": "stream",
     "text": [
      "Created and trained a 'final' DT classifier with max depth = 6\n"
     ]
    }
   ],
   "source": [
    "#\n",
    "# Ok!  We have tuned our DT to use the \"best\" depth...\n",
    "#\n",
    "# Now, we use ALL available data to train our final predictive model:\n",
    "#\n",
    "\n",
    "from sklearn import tree      # for decision trees\n",
    "\n",
    "# we should have best_depth from our cv exploration\n",
    "dtree_model_final = tree.DecisionTreeClassifier(max_depth=best_depth)\n",
    "\n",
    "# we train the model (it's one line!)\n",
    "dtree_model_final.fit(X_all, y_all)                              # yay!  trained!\n",
    "print(\"Created and trained a 'final' DT classifier with max depth =\", best_depth)"
   ]
  },
  {
   "cell_type": "code",
   "execution_count": 20,
   "metadata": {},
   "outputs": [
    {
     "name": "stdout",
     "output_type": "stream",
     "text": [
      "I predict Profit (1) from Features [1, 1, 4, 53711, 1, 0, 12, 665.88, 6, 0.0]\n"
     ]
    }
   ],
   "source": [
    "#\n",
    "# final predictive model (k-nearest-neighbor), with tuned k + ALL data incorporated\n",
    "#\n",
    "\n",
    "def predictive_model( Features ):\n",
    "    \"\"\" input: a list of four features \n",
    "                [ sepallen, sepalwid, petallen, petalwid ]\n",
    "        output: the predicted species of iris, from\n",
    "                  setosa (0), versicolor (1), virginica (2)\n",
    "    \"\"\"\n",
    "    our_features = np.asarray([Features])                 # extra brackets needed\n",
    "    # print(our_features)\n",
    "    predicted_species = dtree_model_final.predict(our_features)\n",
    "    # print(predicted_species)\n",
    "    predicted_species = int(round(predicted_species[0]))  # unpack one element\n",
    "    # print(predicted_species)\n",
    "\n",
    "    name = PROFITS[predicted_species]\n",
    "    return f\"{name} ({predicted_species})\"\n",
    "    \n",
    "#\n",
    "# Try it!\n",
    "# \n",
    "# Features = eval(input(\"Enter new Features: \"))\n",
    "#\n",
    "Features = [1,1,4,53711,1,0,12,665.88,6,0.0]   # [4.8,2.7,3.1,0.2] [4.6,3.1,2.0,1.5] [6.7,3.3,5.7,2.1]\n",
    "result = predictive_model( Features )\n",
    "print(f\"I predict {result} from Features {Features}\")"
   ]
  },
  {
   "cell_type": "code",
   "execution_count": 21,
   "metadata": {},
   "outputs": [
    {
     "name": "stdout",
     "output_type": "stream",
     "text": [
      "[0.00000000e+00 3.13175322e-04 0.00000000e+00 7.93271637e-04\n",
      " 0.00000000e+00 2.95489289e-02 6.20363958e-02 3.19580390e-02\n",
      " 3.33816160e-03 8.72012028e-01]\n",
      "\n",
      "Feature    Ship Mode has    0.00% of the decision-making importance.\n",
      "Feature      Segment has    0.03% of the decision-making importance.\n",
      "Feature        State has    0.00% of the decision-making importance.\n",
      "Feature  Postal Code has    0.08% of the decision-making importance.\n",
      "Feature       Region has    0.00% of the decision-making importance.\n",
      "Feature     Category has    2.95% of the decision-making importance.\n",
      "Feature Sub-Category has    6.20% of the decision-making importance.\n",
      "Feature        Sales has    3.20% of the decision-making importance.\n",
      "Feature     Quantity has    0.33% of the decision-making importance.\n",
      "Feature     Discount has   87.20% of the decision-making importance.\n"
     ]
    }
   ],
   "source": [
    "#\n",
    "# feature importances!\n",
    "# \n",
    "#     feature importances are computed by tracking which feature is used at each decision-point\n",
    "#     weighted by how often that decision-point is checked \n",
    "# \n",
    "# feature importances are often even more \"important\" than predictions, \n",
    "#         because they invite the question, \"why\" (Here, not a computational, but a biological/botanical q'n)\n",
    "#\n",
    "\n",
    "print(dtree_model_final.feature_importances_)\n",
    "print()\n",
    "\n",
    "# let's see them with each feature name:\n",
    "IMPs = dtree_model_final.feature_importances_\n",
    "\n",
    "# enumerate is great when you want indices _and_ elements!\n",
    "for i, importance in enumerate(IMPs):\n",
    "    perc = importance*100\n",
    "    print(f\"Feature {df_model1.columns[i]:>12s} has {perc:>7.2f}% of the decision-making importance.\")"
   ]
  },
  {
   "cell_type": "markdown",
   "metadata": {},
   "source": [
    "#### We stop here for our analysis"
   ]
  },
  {
   "cell_type": "code",
   "execution_count": 22,
   "metadata": {},
   "outputs": [],
   "source": [
    "#\n",
    "# That's it!  Welcome to the world of Decision-Tree models!    \n",
    "#\n",
    "\n",
    "#\n",
    "# But wait, there's more!  More workflows, and more trees!  Random Forests next:\n",
    "#"
   ]
  },
  {
   "cell_type": "code",
   "execution_count": 23,
   "metadata": {},
   "outputs": [],
   "source": [
    "#\n",
    "# Random Forests!!!\n",
    "#\n",
    "\n",
    "# Lots of trees, each using a subset of the data usually at a limited depth\n",
    "#                These many trees then get together to \"vote\" on the correct classification...\n",
    "\n",
    "#\n",
    "# This is an example of an \"ensemble\" classifier, because a RF is simply an ensemble of many DTs.\n",
    "# "
   ]
  },
  {
   "cell_type": "code",
   "execution_count": 24,
   "metadata": {},
   "outputs": [
    {
     "name": "stdout",
     "output_type": "stream",
     "text": [
      "Built an RF with depth=1 and number of trees=42\n"
     ]
    }
   ],
   "source": [
    "#\n",
    "# +++ We're back at the \"Model-building and Model-training Cell\"\n",
    "#       \n",
    "# Create a RF model and train it! \n",
    "#\n",
    "from sklearn import tree      # for decision trees\n",
    "from sklearn import ensemble  # for random forests, an ensemble classifier\n",
    "\n",
    "best_d = 1            # we don't know what depth to use, so we guess...\n",
    "best_num_trees = 42   # again, we guess\n",
    "rforest_model = ensemble.RandomForestClassifier(max_depth=best_d, \n",
    "                                                n_estimators=best_num_trees,\n",
    "                                                max_samples=0.5)  \n",
    "# This max_samples=0.5 is the fraction of rows to use for each DT \n",
    "# For all of our forests, we will let max_samples be 0.5   We'll explore best_d and best_num_trees...\n",
    "\n",
    "# we train the model (again, one line):\n",
    "rforest_model.fit(X_train, y_train)                              # yay!  trained!\n",
    "print(f\"Built an RF with depth={best_d} and number of trees={best_num_trees}\")  "
   ]
  },
  {
   "cell_type": "code",
   "execution_count": 25,
   "metadata": {},
   "outputs": [
    {
     "name": "stdout",
     "output_type": "stream",
     "text": [
      "Predicted labels: [1. 1. 1. ... 1. 1. 1.]\n",
      "Actual  labels  : [1. 1. 1. ... 1. 1. 0.]\n",
      "\n",
      "Results on test set:  1622 correct out of 1999 total.\n",
      "\n",
      "Correct: 1622 out of 1999\n",
      "The percentage accuracy is,  81.14057028514257\n"
     ]
    },
    {
     "data": {
      "text/plain": [
       "1622"
      ]
     },
     "execution_count": 25,
     "metadata": {},
     "output_type": "execute_result"
    }
   ],
   "source": [
    "#\n",
    "# +++ This is the \"Model-testing Cell\"\n",
    "#\n",
    "# Now, let's see how well we did on our \"held-out data\" (the testing data)\n",
    "#\n",
    "\n",
    "# We run our test set!\n",
    "predicted_labels = rforest_model.predict(X_test)\n",
    "actual_labels = y_test\n",
    "\n",
    "# Let's print them so we can compare...\n",
    "print(\"Predicted labels:\", predicted_labels)\n",
    "print(\"Actual  labels  :\", actual_labels)\n",
    "\n",
    "# And, some overall results\n",
    "num_correct = sum(predicted_labels == actual_labels)\n",
    "total = len(actual_labels)\n",
    "print(f\"\\nResults on test set:  {num_correct} correct out of {total} total.\")\n",
    "\n",
    "# and, let's print our table, too...\n",
    "compare_labels(predicted_labels,actual_labels)"
   ]
  },
  {
   "cell_type": "code",
   "execution_count": 26,
   "metadata": {},
   "outputs": [
    {
     "name": "stdout",
     "output_type": "stream",
     "text": [
      "One of the forest's trees is DecisionTreeClassifier(max_depth=1, max_features='auto', random_state=946161686)\n",
      "file rf_tree_028.gv written. Try copying the result to http://viz-js.com/ \n",
      "\n",
      "digraph Tree {\n",
      "node [shape=box, style=\"filled\", color=\"black\", fontname=\"helvetica\"] ;\n",
      "graph [ranksep=equally, splines=polyline] ;\n",
      "edge [fontname=\"helvetica\"] ;\n",
      "0 [label=\"Region <= 2.5\\ngini = 0.313\\nsamples = 3138\\nvalue = [775, 3223]\\nclass = Profit\", fillcolor=\"#69b5eb\"] ;\n",
      "1 [label=\"gini = 0.359\\nsamples = 2160\\nvalue = [645, 2103]\\nclass = Profit\", fillcolor=\"#76bbed\"] ;\n",
      "0 -> 1 [labeldistance=2.5, labelangle=45, headlabel=\"True\"] ;\n",
      "2 [label=\"gini = 0.186\\nsamples = 978\\nvalue = [130, 1120]\\nclass = Profit\", fillcolor=\"#50a8e8\"] ;\n",
      "0 -> 2 [labeldistance=2.5, labelangle=-45, headlabel=\"False\"] ;\n",
      "{rank=same ; 0} ;\n",
      "{rank=same ; 1; 2} ;\n",
      "}\n"
     ]
    }
   ],
   "source": [
    "#\n",
    "# we can get the individual trees, if we want...\n",
    "#\n",
    "tree_index = 28   # which tree\n",
    "one_rf_tree = rforest_model.estimators_[tree_index]\n",
    "print(f\"One of the forest's trees is {one_rf_tree}\")\n",
    "\n",
    "# From there, it's possible to create a graphical version...\n",
    "filename = f'rf_tree_{tree_index:03d}.gv'             # f strings! Could save all trees, but we won't do so here. \n",
    "tree.export_graphviz(one_rf_tree, out_file=filename,  # the filename constructed above...!\n",
    "                            feature_names=df_model1.columns[:-1], # actual feature names, not species\n",
    "                            filled=True,              # fun!\n",
    "                            rotate=False,             # False for Up/Down; True for L/R\n",
    "                            class_names=PROFITS,      # good to have   \n",
    "                            leaves_parallel=True )    # lots of options!\n",
    "                            \n",
    "print(f\"file {filename} written. Try copying the result to http://viz-js.com/ \\n\")\n",
    "\n",
    "with open(filename, \"r\") as f:\n",
    "    file_text = f.read()\n",
    "    print(file_text)"
   ]
  },
  {
   "cell_type": "code",
   "execution_count": 27,
   "metadata": {},
   "outputs": [],
   "source": [
    "# #\n",
    "# # add locally, to this notebook...\n",
    "# #\n",
    "\n",
    "# from IPython import display\n",
    "# display.Image(\"./random_forest_ss.png\")  # be sure it's in the right place!"
   ]
  },
  {
   "cell_type": "code",
   "execution_count": 28,
   "metadata": {},
   "outputs": [],
   "source": [
    "#\n",
    "# Now, to TUNE the model (with cross-validation)...\n",
    "#\n",
    "#\n",
    "# We previously used a depth of 1  and #trees of 42  \n",
    "#\n",
    "# So, we try several depths to find best_d\n",
    "#            and several #'s of trees to find best_ntrees\n",
    "#\n",
    "# The tradeoff is underfitting/overfitting and time...\n",
    "#     \"too many trees\" tends may add noticeably to execution time"
   ]
  },
  {
   "cell_type": "code",
   "execution_count": 29,
   "metadata": {},
   "outputs": [
    {
     "name": "stdout",
     "output_type": "stream",
     "text": [
      "depth:  1 ntrees:  50 cv accuracy:  0.8480\n",
      "depth:  1 ntrees: 150 cv accuracy:  0.8380\n",
      "depth:  1 ntrees: 250 cv accuracy:  0.8469\n",
      "depth:  2 ntrees:  50 cv accuracy:  0.9375\n",
      "depth:  2 ntrees: 150 cv accuracy:  0.9382\n",
      "depth:  2 ntrees: 250 cv accuracy:  0.9376\n",
      "depth:  3 ntrees:  50 cv accuracy:  0.9382\n",
      "depth:  3 ntrees: 150 cv accuracy:  0.9382\n",
      "depth:  3 ntrees: 250 cv accuracy:  0.9382\n",
      "depth:  4 ntrees:  50 cv accuracy:  0.9382\n",
      "depth:  4 ntrees: 150 cv accuracy:  0.9382\n",
      "depth:  4 ntrees: 250 cv accuracy:  0.9382\n",
      "depth:  5 ntrees:  50 cv accuracy:  0.9388\n",
      "depth:  5 ntrees: 150 cv accuracy:  0.9393\n",
      "depth:  5 ntrees: 250 cv accuracy:  0.9386\n",
      "\n",
      "best_depth: 5 and best_num_trees: 150 are our choices.\n",
      "best_score: 0.9393370856785491\n"
     ]
    }
   ],
   "source": [
    "#\n",
    "# So, to compare different parameters, let's use cv\n",
    "#\n",
    "\n",
    "from sklearn.model_selection import cross_val_score\n",
    "\n",
    "#\n",
    "# cross-validation splits the training set into two pieces:\n",
    "#   + model-building and model-validation. We'll use \"build\" and \"validate\"\n",
    "#\n",
    "\n",
    "#\n",
    "# lab task:  wrap this loop in another one! (or create an inner one...)\n",
    "#\n",
    "\n",
    "best_d = 1\n",
    "best_ntrees = 50   # range(50,300,100)\n",
    "best_score = 0\n",
    "\n",
    "for d in range(1,6):\n",
    "    for ntrees in range(50,300,100):\n",
    "        rforest_model = ensemble.RandomForestClassifier(max_depth=d, \n",
    "                                                        n_estimators=ntrees,\n",
    "                                                        max_samples=0.5)\n",
    "        cv_scores = cross_val_score( rforest_model, X_train, y_train, cv=5 ) # 5 means 80/20 split\n",
    "        average_cv_accuracy = cv_scores.mean()  # more likely, only their average\n",
    "        print(f\"depth: {d:2d} ntrees: {ntrees:3d} cv accuracy: {average_cv_accuracy:7.4f}\")\n",
    "\n",
    "        if average_cv_accuracy > best_score:\n",
    "            best_score = average_cv_accuracy\n",
    "            best_d = d\n",
    "            best_ntrees = ntrees\n",
    "\n",
    "# \n",
    "# your task: assign best values by keeping a \"running max\"\n",
    "#\n",
    "best_depth = best_d   \n",
    "best_num_trees = best_ntrees\n",
    "\n",
    "# This will be incorrect when initially run (you'll fix it):\n",
    "print()\n",
    "print(f\"best_depth: {best_depth} and best_num_trees: {best_num_trees} are our choices.\")  \n",
    "print(f\"best_score: {best_score}\")\n",
    "\n",
    "#\n",
    "# remember that the RF lab task is to complete this nested cross-validation loop!\n",
    "#"
   ]
  },
  {
   "cell_type": "code",
   "execution_count": 30,
   "metadata": {},
   "outputs": [
    {
     "name": "stdout",
     "output_type": "stream",
     "text": [
      "Built an RF classifier with depth=5 and ntrees=150\n"
     ]
    }
   ],
   "source": [
    "#\n",
    "# Now, we re-create and re-run the  \"Model-building and -training Cell\"\n",
    "#\n",
    "from sklearn import tree      # for decision trees\n",
    "from sklearn import ensemble  # for random forests\n",
    "best_depth = best_depth\n",
    "best_num_trees = best_num_trees\n",
    "# we should have best_depth and best_num_trees\n",
    "rforest_model_tuned = ensemble.RandomForestClassifier(max_depth=best_depth, \n",
    "                                                      n_estimators=best_num_trees,\n",
    "                                                      max_samples=0.5)\n",
    "\n",
    "# we train the model (it's one line!)\n",
    "rforest_model_tuned.fit(X_train, y_train)                              # yay!  trained!\n",
    "print(f\"Built an RF classifier with depth={best_depth} and ntrees={best_num_trees}\") "
   ]
  },
  {
   "cell_type": "code",
   "execution_count": 31,
   "metadata": {},
   "outputs": [
    {
     "name": "stdout",
     "output_type": "stream",
     "text": [
      "Predicted labels: [1. 1. 1. ... 1. 0. 0.]\n",
      "Actual  labels  : [1. 1. 1. ... 1. 1. 0.]\n",
      "\n",
      "Results on test set:  1886 correct out of 1999 total.\n",
      "\n",
      "Correct: 1886 out of 1999\n",
      "The percentage accuracy is,  94.3471735867934\n"
     ]
    },
    {
     "data": {
      "text/plain": [
       "1886"
      ]
     },
     "execution_count": 31,
     "metadata": {},
     "output_type": "execute_result"
    }
   ],
   "source": [
    "#\n",
    "# +++ This is our \"Model-testing Cell\"\n",
    "#\n",
    "# Now, let's see how well we did on our \"held-out data\" (the testing data)\n",
    "#\n",
    "\n",
    "# We run our test set!\n",
    "predicted_labels = rforest_model_tuned.predict(X_test)\n",
    "actual_labels = y_test\n",
    "\n",
    "# Let's print them so we can compare...\n",
    "print(\"Predicted labels:\", predicted_labels)\n",
    "print(\"Actual  labels  :\", actual_labels)\n",
    "\n",
    "# And, some overall results\n",
    "num_correct = sum(predicted_labels == actual_labels)\n",
    "total = len(actual_labels)\n",
    "print(f\"\\nResults on test set:  {num_correct} correct out of {total} total.\")\n",
    "\n",
    "# and, let's print our table, too...\n",
    "compare_labels(predicted_labels,actual_labels)"
   ]
  },
  {
   "cell_type": "code",
   "execution_count": 32,
   "metadata": {},
   "outputs": [
    {
     "name": "stdout",
     "output_type": "stream",
     "text": [
      "Built an RF classifier with depth=5 and ntrees=150\n"
     ]
    }
   ],
   "source": [
    "#\n",
    "# Ok!  We have tuned our RF to use the \"best\" parameters\n",
    "#\n",
    "# Now, we use ALL available data to train our final predictive model:\n",
    "#\n",
    "from sklearn import tree      # for decision trees\n",
    "from sklearn import ensemble  # for random forests\n",
    "\n",
    "# we should have best_depth and best_num_trees\n",
    "rforest_model_final = ensemble.RandomForestClassifier(max_depth=best_depth, \n",
    "                                                      n_estimators=best_num_trees,\n",
    "                                                      max_samples=0.5)\n",
    "\n",
    "# we train the model (it's one line!)\n",
    "rforest_model_final.fit(X_all, y_all)              # yay!  trained!\n",
    "print(f\"Built an RF classifier with depth={best_depth} and ntrees={best_num_trees}\") "
   ]
  },
  {
   "cell_type": "code",
   "execution_count": 33,
   "metadata": {},
   "outputs": [
    {
     "name": "stdout",
     "output_type": "stream",
     "text": [
      "I predict Profit (1) from Features [1, 1, 4, 53711, 1, 0, 12, 665.88, 6, 0.0]\n"
     ]
    }
   ],
   "source": [
    "#\n",
    "# final predictive model (k-nearest-neighbor), with tuned k + ALL data incorporated\n",
    "#\n",
    "\n",
    "def predictive_model( Features ):\n",
    "    \"\"\" input: a list of four features \n",
    "                [ sepallen, sepalwid, petallen, petalwid ]\n",
    "        output: the predicted species of iris, from\n",
    "                  setosa (0), versicolor (1), virginica (2)\n",
    "    \"\"\"\n",
    "    our_features = np.asarray([Features])                 # extra brackets needed\n",
    "    predicted_species = rforest_model_final.predict(our_features)\n",
    "    \n",
    "    predicted_species = int(round(predicted_species[0]))  # unpack one element\n",
    "    name = PROFITS[predicted_species]\n",
    "    return f\"{name} ({predicted_species})\"\n",
    "    \n",
    "#\n",
    "# Try it!\n",
    "# \n",
    "# Features = eval(input(\"Enter new Features: \"))\n",
    "#\n",
    "Features = [1,1,4,53711,1,0,12,665.88,6,0.0]  # [4.8,2.7,3.1,0.2] [4.6,3.1,2.0,1.5] [6.7,3.3,5.7,2.1]\n",
    "result = predictive_model( Features )\n",
    "print(f\"I predict {result} from Features {Features}\")"
   ]
  },
  {
   "cell_type": "code",
   "execution_count": 34,
   "metadata": {},
   "outputs": [],
   "source": [
    "# #\n",
    "# # try it on new, \"unseen\" data!\n",
    "# #\n",
    "\n",
    "# # Less unseen than in hw4, admittedly!\n",
    "\n",
    "# LoF = [[4.8, 3.1, 1.6, 0.2 ],\n",
    "# [5.7, 2.9, 4.2, 1.3 ],\n",
    "# [5.8, 2.7, 5.1, 1.9 ],\n",
    "# [5.2, 4.1, 1.5, 0.1 ],\n",
    "# [5.4, 3.4, 1.5, 0.4 ],\n",
    "# [5.1, 2.5, 3.0, 1.1 ],\n",
    "# [6.2, 2.9, 4.3, 1.3 ],\n",
    "# [6.3, 3.3, 6.0, 2.5 ],\n",
    "# [5.7, 2.8, 4.1, 1.3 ]]\n",
    "      \n",
    "# for Features in LoF:\n",
    "#     result = predictive_model( Features )\n",
    "#     print(f\"I predict {result} from Features {Features}\")\n",
    "\n",
    "# # these flowers' coded species: 012001122"
   ]
  },
  {
   "cell_type": "code",
   "execution_count": 35,
   "metadata": {},
   "outputs": [
    {
     "name": "stdout",
     "output_type": "stream",
     "text": [
      "[9.01891944e-04 6.71625160e-04 9.22814365e-02 4.49615396e-02\n",
      " 1.01801332e-02 3.84242337e-02 5.22530136e-02 2.66078236e-02\n",
      " 3.62110717e-03 7.30097196e-01]\n",
      "\n",
      "Feature    Ship Mode has    0.09% of the decision-making importance.\n",
      "Feature      Segment has    0.07% of the decision-making importance.\n",
      "Feature        State has    9.23% of the decision-making importance.\n",
      "Feature  Postal Code has    4.50% of the decision-making importance.\n",
      "Feature       Region has    1.02% of the decision-making importance.\n",
      "Feature     Category has    3.84% of the decision-making importance.\n",
      "Feature Sub-Category has    5.23% of the decision-making importance.\n",
      "Feature        Sales has    2.66% of the decision-making importance.\n",
      "Feature     Quantity has    0.36% of the decision-making importance.\n",
      "Feature     Discount has   73.01% of the decision-making importance.\n"
     ]
    }
   ],
   "source": [
    "#\n",
    "# feature importances are often even more \"important\" than predictions...\n",
    "#\n",
    "#    Random forests can provide a much \"smoother\" measure of feature importance, since\n",
    "#                   they integrate over so many individual models (each tree)\n",
    "#\n",
    "#    That is, it's much less likely that a feature will have 0% importance, unless it never varies\n",
    "#\n",
    "\n",
    "print(rforest_model_final.feature_importances_)\n",
    "print()\n",
    "\n",
    "# let's see them with each feature name:\n",
    "IMPs = rforest_model_final.feature_importances_\n",
    "\n",
    "# enumerate is great when you want indices _and_ elements!\n",
    "for i, importance in enumerate(IMPs):\n",
    "    perc = importance*100\n",
    "    print(f\"Feature {df_model1.columns[i]:>12s} has {perc:>7.2f}% of the decision-making importance.\")"
   ]
  },
  {
   "cell_type": "code",
   "execution_count": 36,
   "metadata": {},
   "outputs": [],
   "source": [
    "#\n",
    "# That's the random-forest model. Let's consider it found, not lost, for all of its many trees!\n",
    "#"
   ]
  }
 ],
 "metadata": {
  "interpreter": {
   "hash": "8e9078af1d1b823c016f1c05044ac27069a913e9ee829bf17932c3542e6b0120"
  },
  "kernelspec": {
   "display_name": "Python 3.9.12 64-bit (windows store)",
   "language": "python",
   "name": "python3"
  },
  "language_info": {
   "codemirror_mode": {
    "name": "ipython",
    "version": 3
   },
   "file_extension": ".py",
   "mimetype": "text/x-python",
   "name": "python",
   "nbconvert_exporter": "python",
   "pygments_lexer": "ipython3",
   "version": "3.9.12"
  }
 },
 "nbformat": 4,
 "nbformat_minor": 4
}
